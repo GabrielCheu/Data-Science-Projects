{
  "nbformat": 4,
  "nbformat_minor": 0,
  "metadata": 
  {
    "colab":
    {
      "name": "Analisando_os_Dados_do_Airbnb_Berlim.ipynb",
      "provenance": [],
      "collapsed_sections": 
      [
        "Nuji0bhmjR8K",
        "dcpwPbxR9rJC"
      ],
      "include_colab_link": true
    },
    "kernelspec": 
    {
      "name": "python3",
      "display_name": "Python 3"
    }
  },
  "cells":
  [
    {
      "cell_type": "markdown",
      "metadata": {
        "id": "view-in-github",
        "colab_type": "text"
    },
  ]
}
